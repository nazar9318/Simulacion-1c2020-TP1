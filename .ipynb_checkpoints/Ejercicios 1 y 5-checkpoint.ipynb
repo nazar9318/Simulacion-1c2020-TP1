{
 "cells": [
  {
   "cell_type": "code",
   "execution_count": 1,
   "metadata": {},
   "outputs": [],
   "source": [
    "import pandas as pd\n",
    "import seaborn as sns \n",
    "import numpy as np\n",
    "import matplotlib.pyplot as plt\n",
    "from random import random\n",
    "import array\n",
    "import math as m\n",
    "from __future__ import division"
   ]
  },
  {
   "cell_type": "markdown",
   "metadata": {},
   "source": [
    "# Ejercicio 5"
   ]
  },
  {
   "cell_type": "code",
   "execution_count": 2,
   "metadata": {},
   "outputs": [],
   "source": [
    "def modulo(x):\n",
    "    modulo = 2**32\n",
    "    multiplicador = 1013904223\n",
    "    incremento = 1664525\n",
    "    return (x*multiplicador + incremento) % modulo"
   ]
  },
  {
   "cell_type": "markdown",
   "metadata": {},
   "source": [
    "Definimos una función para saber si el número pertenece al intervalo que nos interesa"
   ]
  },
  {
   "cell_type": "code",
   "execution_count": 3,
   "metadata": {},
   "outputs": [],
   "source": [
    "def estaEnElIntervalo(x):\n",
    "    return ((x < 0.5 and x > 0.2) or x == 0.5 or x == 0.2)"
   ]
  },
  {
   "cell_type": "markdown",
   "metadata": {},
   "source": [
    "Definimos una función para devolver la longitud gap del valor en el índice que obtenemos por parámetro"
   ]
  },
  {
   "cell_type": "code",
   "execution_count": 4,
   "metadata": {},
   "outputs": [],
   "source": [
    "def longitudGap(arreglo, i):\n",
    "    longitudGap = 0\n",
    "    if (i < len(arreglo)):\n",
    "        if (estaEnElIntervalo(arreglo[i]) == True and i+1 < len(arreglo)):\n",
    "            i = i + 1\n",
    "            while (estaEnElIntervalo(arreglo[i]) == False and i < len(arreglo)):\n",
    "                longitudGap = longitudGap + 1\n",
    "                if  (i < len(arreglo)):\n",
    "                    i = i + 1\n",
    "    return longitudGap"
   ]
  },
  {
   "cell_type": "markdown",
   "metadata": {},
   "source": [
    "La probabilidad de cada longitud gap es la probabilidad de la longitud cero multiplicada por la probabilidad de que el número no esté en el intervalo, elevado a dicha longitud gap"
   ]
  },
  {
   "cell_type": "code",
   "execution_count": 5,
   "metadata": {},
   "outputs": [],
   "source": [
    "def probabilidadGap(x, p):\n",
    "    return p*((1 - p)**x)"
   ]
  },
  {
   "cell_type": "code",
   "execution_count": 6,
   "metadata": {},
   "outputs": [],
   "source": [
    "numeros = []"
   ]
  },
  {
   "cell_type": "code",
   "execution_count": 7,
   "metadata": {},
   "outputs": [],
   "source": [
    "x = 96102\n",
    "for i in range(100000):\n",
    "    numeros.insert(i, modulo(x)/(2**32))\n",
    "    x = modulo(x)"
   ]
  },
  {
   "cell_type": "markdown",
   "metadata": {},
   "source": [
    "Creamos un arreglo para cargar las longitudes Gap que vamos calculando para cada valor del arreglo que guarda los números generados"
   ]
  },
  {
   "cell_type": "code",
   "execution_count": 8,
   "metadata": {},
   "outputs": [],
   "source": [
    "longitudes = []"
   ]
  },
  {
   "cell_type": "code",
   "execution_count": 9,
   "metadata": {},
   "outputs": [],
   "source": [
    "for i in range(len(numeros)):\n",
    "    if(estaEnElIntervalo(numeros[i])):\n",
    "        lenght = longitudGap(numeros, i)\n",
    "        longitudes.insert(i, lenght)"
   ]
  },
  {
   "cell_type": "markdown",
   "metadata": {},
   "source": [
    "Obtenemos un arreglo que contiene la cantidad de veces que encontramos cada longitud Gap en el arrego de números, ordenado por cada longitud Gap"
   ]
  },
  {
   "cell_type": "code",
   "execution_count": 10,
   "metadata": {},
   "outputs": [],
   "source": [
    "(unique, counts) = np.unique(longitudes, return_counts=True)\n",
    "frequencies = np.asarray((unique, counts)).T"
   ]
  },
  {
   "cell_type": "markdown",
   "metadata": {},
   "source": [
    "La probabilidad de la longitd gap cero es la longitud del intervalo en el que buscamos a cada número"
   ]
  },
  {
   "cell_type": "code",
   "execution_count": 11,
   "metadata": {},
   "outputs": [],
   "source": [
    "p = 0.5 - 0.2"
   ]
  },
  {
   "cell_type": "markdown",
   "metadata": {},
   "source": [
    "Guardamos cada longitud Gap y su probabilidad en un arreglo"
   ]
  },
  {
   "cell_type": "code",
   "execution_count": 12,
   "metadata": {},
   "outputs": [],
   "source": [
    "probabilidades = []"
   ]
  },
  {
   "cell_type": "code",
   "execution_count": 13,
   "metadata": {},
   "outputs": [],
   "source": [
    "for i in np.unique(longitudes):\n",
    "    probabilidades.insert(len(probabilidades),probabilidadGap(i, 0.3))"
   ]
  },
  {
   "cell_type": "code",
   "execution_count": 14,
   "metadata": {},
   "outputs": [],
   "source": [
    "list_bin = np.unique(longitudes)"
   ]
  },
  {
   "cell_type": "markdown",
   "metadata": {},
   "source": [
    "Graficamos la frecuencia de cada longitud gap"
   ]
  },
  {
   "cell_type": "code",
   "execution_count": 15,
   "metadata": {},
   "outputs": [
    {
     "data": {
      "text/plain": [
       "(array([8.930e+03, 6.443e+03, 4.456e+03, 3.082e+03, 2.149e+03, 1.444e+03,\n",
       "        1.028e+03, 7.830e+02, 5.250e+02, 3.740e+02, 2.500e+02, 1.730e+02,\n",
       "        9.700e+01, 8.300e+01, 6.400e+01, 4.400e+01, 3.500e+01, 1.700e+01,\n",
       "        2.500e+01, 1.200e+01, 8.000e+00, 6.000e+00, 2.000e+00, 3.000e+00,\n",
       "        2.000e+00, 1.000e+00, 1.000e+00, 1.000e+00, 2.000e+00]),\n",
       " array([ 0,  1,  2,  3,  4,  5,  6,  7,  8,  9, 10, 11, 12, 13, 14, 15, 16,\n",
       "        17, 18, 19, 20, 21, 22, 23, 24, 25, 26, 27, 30, 37]),\n",
       " <a list of 29 Patch objects>)"
      ]
     },
     "execution_count": 15,
     "metadata": {},
     "output_type": "execute_result"
    },
    {
     "data": {
      "image/png": "[encoded data removed]",
      "text/plain": [
       "<Figure size 1080x720 with 1 Axes>"
      ]
     },
     "metadata": {
      "needs_background": "light"
     },
     "output_type": "display_data"
    }
   ],
   "source": [
    "plt.figure(figsize=(15,10))\n",
    "plt.hist(longitudes, bins = list_bin, ec = 'black')"
   ]
  },
  {
   "cell_type": "markdown",
   "metadata": {},
   "source": [
    "Las frecuencias observadas se separan de las longitudes gap, en un solo arreglo"
   ]
  },
  {
   "cell_type": "code",
   "execution_count": 16,
   "metadata": {},
   "outputs": [],
   "source": [
    "import scipy.stats as st"
   ]
  },
  {
   "cell_type": "code",
   "execution_count": 17,
   "metadata": {},
   "outputs": [],
   "source": [
    "frecuencias_observadas = np.unique(longitudes, return_counts=True)\n",
    "frecuencias_observadas = frecuencias_observadas[1]"
   ]
  },
  {
   "cell_type": "markdown",
   "metadata": {},
   "source": [
    "Se obtienen las frecuencias esperadas multiplicando el arreglo de probabilidades de cada longitud gap por la cantidad de números"
   ]
  },
  {
   "cell_type": "code",
   "execution_count": 18,
   "metadata": {},
   "outputs": [],
   "source": [
    "frecuencias_esperadas = np.array(probabilidades)*100000"
   ]
  },
  {
   "cell_type": "markdown",
   "metadata": {},
   "source": [
    "Obtenemos el valor de D2 y el p_valor con el test chi cuadrado que provee la biblioteca scipy.stats"
   ]
  },
  {
   "cell_type": "code",
   "execution_count": 19,
   "metadata": {},
   "outputs": [],
   "source": [
    "(D2, p_valor) = st.chisquare(f_obs = frecuencias_observadas, f_exp = frecuencias_esperadas)"
   ]
  },
  {
   "cell_type": "markdown",
   "metadata": {},
   "source": [
    "Imprimimos D2"
   ]
  },
  {
   "cell_type": "code",
   "execution_count": 20,
   "metadata": {},
   "outputs": [
    {
     "name": "stdout",
     "output_type": "stream",
     "text": [
      "48967.31837417554\n"
     ]
    }
   ],
   "source": [
    "print D2"
   ]
  },
  {
   "cell_type": "markdown",
   "metadata": {},
   "source": [
    "Imprimimos el p_valor"
   ]
  },
  {
   "cell_type": "code",
   "execution_count": 21,
   "metadata": {},
   "outputs": [
    {
     "name": "stdout",
     "output_type": "stream",
     "text": [
      "0.0\n"
     ]
    }
   ],
   "source": [
    "print p_valor"
   ]
  },
  {
   "cell_type": "markdown",
   "metadata": {},
   "source": [
    "Definimos el nivel de significación"
   ]
  },
  {
   "cell_type": "code",
   "execution_count": 22,
   "metadata": {},
   "outputs": [],
   "source": [
    "alpha = 0.01"
   ]
  },
  {
   "cell_type": "markdown",
   "metadata": {},
   "source": [
    "Aunque salta a la vista la conclusión, definimos una función booleana para saber en qué estado queda el test"
   ]
  },
  {
   "cell_type": "code",
   "execution_count": 23,
   "metadata": {},
   "outputs": [
    {
     "name": "stdout",
     "output_type": "stream",
     "text": [
      "Se rechaza H0\n"
     ]
    }
   ],
   "source": [
    "if (p_valor < alpha):\n",
    "    print \"Se rechaza H0\"\n",
    "else:\n",
    "    print \"No se puede rechazar H0\""
   ]
  },
  {
   "cell_type": "markdown",
   "metadata": {},
   "source": []
  },
  {
   "cell_type": "markdown",
   "metadata": {},
   "source": []
  },
  {
   "cell_type": "code",
   "execution_count": null,
   "metadata": {},
   "outputs": [],
   "source": []
  },
  {
   "cell_type": "code",
   "execution_count": null,
   "metadata": {},
   "outputs": [],
   "source": []
  },
  {
   "cell_type": "code",
   "execution_count": null,
   "metadata": {},
   "outputs": [],
   "source": []
  },
  {
   "cell_type": "code",
   "execution_count": null,
   "metadata": {},
   "outputs": [],
   "source": []
  },
  {
   "cell_type": "code",
   "execution_count": null,
   "metadata": {},
   "outputs": [],
   "source": []
  },
  {
   "cell_type": "code",
   "execution_count": null,
   "metadata": {},
   "outputs": [],
   "source": []
  }
 ],
 "metadata": {
  "kernelspec": {
   "display_name": "Python 2",
   "language": "python",
   "name": "python2"
  },
  "language_info": {
   "codemirror_mode": {
    "name": "ipython",
    "version": 2
   },
   "file_extension": ".py",
   "mimetype": "text/x-python",
   "name": "python",
   "nbconvert_exporter": "python",
   "pygments_lexer": "ipython2",
   "version": "2.7.15"
  }
 },
 "nbformat": 4,
 "nbformat_minor": 2
}
